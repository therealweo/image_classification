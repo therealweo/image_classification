{
 "cells": [
  {
   "cell_type": "markdown",
   "metadata": {
    "collapsed": true
   },
   "source": [
    "# Image Classification\n",
    "In this project, you'll classify images from the [CIFAR-10 dataset](https://www.cs.toronto.edu/~kriz/cifar.html).  The dataset consists of airplanes, dogs, cats, and other objects. You'll preprocess the images, then train a convolutional neural network on all the samples. The images need to be normalized and the labels need to be one-hot encoded.  You'll get to apply what you learned and build a convolutional, max pooling, dropout, and fully connected layers.  At the end, you'll get to see your neural network's predictions on the sample images.\n",
    "## Get the Data\n",
    "Run the following cell to download the [CIFAR-10 dataset for python](https://www.cs.toronto.edu/~kriz/cifar-10-python.tar.gz)."
   ]
  },
  {
   "cell_type": "code",
   "execution_count": 1,
   "metadata": {
    "collapsed": false
   },
   "outputs": [
    {
     "name": "stdout",
     "output_type": "stream",
     "text": [
      "All files found!\n"
     ]
    }
   ],
   "source": [
    "\"\"\"\n",
    "DON'T MODIFY ANYTHING IN THIS CELL THAT IS BELOW THIS LINE\n",
    "\"\"\"\n",
    "from urllib.request import urlretrieve\n",
    "from os.path import isfile, isdir\n",
    "from tqdm import tqdm\n",
    "import problem_unittests as tests\n",
    "import tarfile\n",
    "\n",
    "cifar10_dataset_folder_path = 'cifar-10-batches-py'\n",
    "\n",
    "class DLProgress(tqdm):\n",
    "    last_block = 0\n",
    "\n",
    "    def hook(self, block_num=1, block_size=1, total_size=None):\n",
    "        self.total = total_size\n",
    "        self.update((block_num - self.last_block) * block_size)\n",
    "        self.last_block = block_num\n",
    "\n",
    "if not isfile('cifar-10-python.tar.gz'):\n",
    "    with DLProgress(unit='B', unit_scale=True, miniters=1, desc='CIFAR-10 Dataset') as pbar:\n",
    "        urlretrieve(\n",
    "            'https://www.cs.toronto.edu/~kriz/cifar-10-python.tar.gz',\n",
    "            'cifar-10-python.tar.gz',\n",
    "            pbar.hook)\n",
    "\n",
    "if not isdir(cifar10_dataset_folder_path):\n",
    "    with tarfile.open('cifar-10-python.tar.gz') as tar:\n",
    "        tar.extractall()\n",
    "        tar.close()\n",
    "\n",
    "\n",
    "tests.test_folder_path(cifar10_dataset_folder_path)"
   ]
  },
  {
   "cell_type": "markdown",
   "metadata": {},
   "source": [
    "## Explore the Data\n",
    "The dataset is broken into batches to prevent your machine from running out of memory.  The CIFAR-10 dataset consists of 5 batches, named `data_batch_1`, `data_batch_2`, etc.. Each batch contains the labels and images that are one of the following:\n",
    "* airplane\n",
    "* automobile\n",
    "* bird\n",
    "* cat\n",
    "* deer\n",
    "* dog\n",
    "* frog\n",
    "* horse\n",
    "* ship\n",
    "* truck\n",
    "\n",
    "Understanding a dataset is part of making predictions on the data.  Play around with the code cell below by changing the `batch_id` and `sample_id`. The `batch_id` is the id for a batch (1-5). The `sample_id` is the id for a image and label pair in the batch.\n",
    "\n",
    "Ask yourself \"What are all possible labels?\", \"What is the range of values for the image data?\", \"Are the labels in order or random?\".  Answers to questions like these will help you preprocess the data and end up with better predictions."
   ]
  },
  {
   "cell_type": "code",
   "execution_count": 2,
   "metadata": {
    "collapsed": false
   },
   "outputs": [
    {
     "name": "stdout",
     "output_type": "stream",
     "text": [
      "\n",
      "Stats of batch 5:\n",
      "Samples: 10000\n",
      "Label Counts: {0: 1014, 1: 1014, 2: 952, 3: 1016, 4: 997, 5: 1025, 6: 980, 7: 977, 8: 1003, 9: 1022}\n",
      "First 20 Labels: [1, 8, 5, 1, 5, 7, 4, 3, 8, 2, 7, 2, 0, 1, 5, 9, 6, 2, 0, 8]\n",
      "\n",
      "Example of Image 200:\n",
      "Image - Min Value: 10 Max Value: 232\n",
      "Image - Shape: (32, 32, 3)\n",
      "Label - Label Id: 6 Name: frog\n"
     ]
    },
    {
     "data": {
      "image/png": "[encoded data removed]",
      "text/plain": [
       "<matplotlib.figure.Figure at 0x9ab5b38>"
      ]
     },
     "metadata": {
      "image/png": {
       "height": 250,
       "width": 253
      }
     },
     "output_type": "display_data"
    }
   ],
   "source": [
    "%matplotlib inline\n",
    "%config InlineBackend.figure_format = 'retina'\n",
    "\n",
    "import helper\n",
    "import numpy as np\n",
    "\n",
    "# Explore the dataset\n",
    "batch_id = 5\n",
    "sample_id = 200\n",
    "helper.display_stats(cifar10_dataset_folder_path, batch_id, sample_id)"
   ]
  },
  {
   "cell_type": "markdown",
   "metadata": {},
   "source": [
    "## Implement Preprocess Functions\n",
    "### Normalize\n",
    "In the cell below, implement the `normalize` function to take in image data, `x`, and return it as a normalized Numpy array. The values should be in the range of 0 to 1, inclusive.  The return object should be the same shape as `x`."
   ]
  },
  {
   "cell_type": "code",
   "execution_count": 3,
   "metadata": {
    "collapsed": false
   },
   "outputs": [
    {
     "name": "stdout",
     "output_type": "stream",
     "text": [
      "Tests Passed\n"
     ]
    }
   ],
   "source": [
    "def normalize(x):\n",
    "    \"\"\"\n",
    "    Normalize a list of sample image data in the range of 0 to 1\n",
    "    : x: List of image data.  The image shape is (32, 32, 3)\n",
    "    : return: Numpy array of normalize data\n",
    "    \"\"\"\n",
    "    return np.array(list(map(lambda x: x/255, x)))\n",
    "\n",
    "\"\"\"\n",
    "DON'T MODIFY ANYTHING IN THIS CELL THAT IS BELOW THIS LINE\n",
    "\"\"\"\n",
    "tests.test_normalize(normalize)"
   ]
  },
  {
   "cell_type": "markdown",
   "metadata": {},
   "source": [
    "### One-hot encode\n",
    "Just like the previous code cell, you'll be implementing a function for preprocessing.  This time, you'll implement the `one_hot_encode` function. The input, `x`, are a list of labels.  Implement the function to return the list of labels as One-Hot encoded Numpy array.  The possible values for labels are 0 to 9. The one-hot encoding function should return the same encoding for each value between each call to `one_hot_encode`.  Make sure to save the map of encodings outside the function.\n",
    "\n",
    "**Hint:**\n",
    "\n",
    "Look into LabelBinarizer in the preprocessing module of sklearn."
   ]
  },
  {
   "cell_type": "code",
   "execution_count": 4,
   "metadata": {
    "collapsed": false
   },
   "outputs": [
    {
     "name": "stdout",
     "output_type": "stream",
     "text": [
      "Tests Passed\n"
     ]
    }
   ],
   "source": [
    "\n",
    "def one_hot_encode(x):\n",
    "    \"\"\"\n",
    "    One hot encode a list of sample labels. Return a one-hot encoded vector for each label.\n",
    "    : x: List of sample Labels\n",
    "    : return: Numpy array of one-hot encoded labels\n",
    "    \"\"\"\n",
    "    onehot = np.zeros((len(x), 10))\n",
    "    for i, label in enumerate(x):\n",
    "        onehot[i,label]=1\n",
    "    return onehot\n",
    "\n",
    "\"\"\"\n",
    "DON'T MODIFY ANYTHING IN THIS CELL THAT IS BELOW THIS LINE\n",
    "\"\"\"\n",
    "tests.test_one_hot_encode(one_hot_encode)"
   ]
  },
  {
   "cell_type": "markdown",
   "metadata": {},
   "source": [
    "### Randomize Data\n",
    "As you saw from exploring the data above, the order of the samples are randomized.  It doesn't hurt to randomize it again, but you don't need to for this dataset."
   ]
  },
  {
   "cell_type": "markdown",
   "metadata": {},
   "source": [
    "## Preprocess all the data and save it\n",
    "Running the code cell below will preprocess all the CIFAR-10 data and save it to file. The code below also uses 10% of the training data for validation."
   ]
  },
  {
   "cell_type": "code",
   "execution_count": 5,
   "metadata": {
    "collapsed": false
   },
   "outputs": [],
   "source": [
    "\"\"\"\n",
    "DON'T MODIFY ANYTHING IN THIS CELL\n",
    "\"\"\"\n",
    "# Preprocess Training, Validation, and Testing Data\n",
    "helper.preprocess_and_save_data(cifar10_dataset_folder_path, normalize, one_hot_encode)"
   ]
  },
  {
   "cell_type": "markdown",
   "metadata": {},
   "source": [
    "# Check Point\n",
    "This is your first checkpoint.  If you ever decide to come back to this notebook or have to restart the notebook, you can start from here.  The preprocessed data has been saved to disk."
   ]
  },
  {
   "cell_type": "code",
   "execution_count": 6,
   "metadata": {
    "collapsed": true
   },
   "outputs": [],
   "source": [
    "\"\"\"\n",
    "DON'T MODIFY ANYTHING IN THIS CELL\n",
    "\"\"\"\n",
    "import pickle\n",
    "import problem_unittests as tests\n",
    "import helper\n",
    "\n",
    "# Load the Preprocessed Validation data\n",
    "valid_features, valid_labels = pickle.load(open('preprocess_validation.p', mode='rb'))"
   ]
  },
  {
   "cell_type": "markdown",
   "metadata": {},
   "source": [
    "## Build the network\n",
    "For the neural network, you'll build each layer into a function.  Most of the code you've seen has been outside of functions. To test your code more thoroughly, we require that you put each layer in a function.  This allows us to give you better feedback and test for simple mistakes using our unittests before you submit your project.\n",
    "\n",
    ">**Note:** If you're finding it hard to dedicate enough time for this course each week, we've provided a small shortcut to this part of the project. In the next couple of problems, you'll have the option to use classes from the [TensorFlow Layers](https://www.tensorflow.org/api_docs/python/tf/layers) or [TensorFlow Layers (contrib)](https://www.tensorflow.org/api_guides/python/contrib.layers) packages to build each layer, except the layers you build in the \"Convolutional and Max Pooling Layer\" section.  TF Layers is similar to Keras's and TFLearn's abstraction to layers, so it's easy to pickup.\n",
    "\n",
    ">However, if you would like to get the most out of this course, try to solve all the problems _without_ using anything from the TF Layers packages. You **can** still use classes from other packages that happen to have the same name as ones you find in TF Layers! For example, instead of using the TF Layers version of the `conv2d` class, [tf.layers.conv2d](https://www.tensorflow.org/api_docs/python/tf/layers/conv2d), you would want to use the TF Neural Network version of `conv2d`, [tf.nn.conv2d](https://www.tensorflow.org/api_docs/python/tf/nn/conv2d). \n",
    "\n",
    "Let's begin!\n",
    "\n",
    "### Input\n",
    "The neural network needs to read the image data, one-hot encoded labels, and dropout keep probability. Implement the following functions\n",
    "* Implement `neural_net_image_input`\n",
    " * Return a [TF Placeholder](https://www.tensorflow.org/api_docs/python/tf/placeholder)\n",
    " * Set the shape using `image_shape` with batch size set to `None`.\n",
    " * Name the TensorFlow placeholder \"x\" using the TensorFlow `name` parameter in the [TF Placeholder](https://www.tensorflow.org/api_docs/python/tf/placeholder).\n",
    "* Implement `neural_net_label_input`\n",
    " * Return a [TF Placeholder](https://www.tensorflow.org/api_docs/python/tf/placeholder)\n",
    " * Set the shape using `n_classes` with batch size set to `None`.\n",
    " * Name the TensorFlow placeholder \"y\" using the TensorFlow `name` parameter in the [TF Placeholder](https://www.tensorflow.org/api_docs/python/tf/placeholder).\n",
    "* Implement `neural_net_keep_prob_input`\n",
    " * Return a [TF Placeholder](https://www.tensorflow.org/api_docs/python/tf/placeholder) for dropout keep probability.\n",
    " * Name the TensorFlow placeholder \"keep_prob\" using the TensorFlow `name` parameter in the [TF Placeholder](https://www.tensorflow.org/api_docs/python/tf/placeholder).\n",
    "\n",
    "These names will be used at the end of the project to load your saved model.\n",
    "\n",
    "Note: `None` for shapes in TensorFlow allow for a dynamic size."
   ]
  },
  {
   "cell_type": "code",
   "execution_count": 7,
   "metadata": {
    "collapsed": false
   },
   "outputs": [
    {
     "name": "stdout",
     "output_type": "stream",
     "text": [
      "Image Input Tests Passed.\n",
      "Label Input Tests Passed.\n",
      "Keep Prob Tests Passed.\n"
     ]
    }
   ],
   "source": [
    "import tensorflow as tf\n",
    "\n",
    "def neural_net_image_input(image_shape):\n",
    "    \"\"\"\n",
    "    Return a Tensor for a batch of image input\n",
    "    : image_shape: Shape of the images\n",
    "    : return: Tensor for image input.\n",
    "    \"\"\"\n",
    "    x = tf.placeholder(tf.float32, shape=(None, *image_shape), name='x')\n",
    "    return x\n",
    "\n",
    "\n",
    "def neural_net_label_input(n_classes):\n",
    "    \"\"\"\n",
    "    Return a Tensor for a batch of label input\n",
    "    : n_classes: Number of classes\n",
    "    : return: Tensor for label input.\n",
    "    \"\"\"\n",
    "    y = tf.placeholder(tf.float32, shape = (None, n_classes), name='y')\n",
    "    return y\n",
    "\n",
    "\n",
    "def neural_net_keep_prob_input():\n",
    "    \"\"\"\n",
    "    Return a Tensor for keep probability\n",
    "    : return: Tensor for keep probability.\n",
    "    \"\"\"\n",
    "    keep_prob = tf.placeholder(tf.float32, name='keep_prob')\n",
    "    return keep_prob\n",
    "\n",
    "\n",
    "\"\"\"\n",
    "DON'T MODIFY ANYTHING IN THIS CELL THAT IS BELOW THIS LINE\n",
    "\"\"\"\n",
    "tf.reset_default_graph()\n",
    "tests.test_nn_image_inputs(neural_net_image_input)\n",
    "tests.test_nn_label_inputs(neural_net_label_input)\n",
    "tests.test_nn_keep_prob_inputs(neural_net_keep_prob_input)"
   ]
  },
  {
   "cell_type": "markdown",
   "metadata": {},
   "source": [
    "### Convolution and Max Pooling Layer\n",
    "Convolution layers have a lot of success with images. For this code cell, you should implement the function `conv2d_maxpool` to apply convolution then max pooling:\n",
    "* Create the weight and bias using `conv_ksize`, `conv_num_outputs` and the shape of `x_tensor`.\n",
    "* Apply a convolution to `x_tensor` using weight and `conv_strides`.\n",
    " * We recommend you use same padding, but you're welcome to use any padding.\n",
    "* Add bias\n",
    "* Add a nonlinear activation to the convolution.\n",
    "* Apply Max Pooling using `pool_ksize` and `pool_strides`.\n",
    " * We recommend you use same padding, but you're welcome to use any padding.\n",
    "\n",
    "**Note:** You **can't** use [TensorFlow Layers](https://www.tensorflow.org/api_docs/python/tf/layers) or [TensorFlow Layers (contrib)](https://www.tensorflow.org/api_guides/python/contrib.layers) for **this** layer, but you can still use TensorFlow's [Neural Network](https://www.tensorflow.org/api_docs/python/tf/nn) package. You may still use the shortcut option for all the **other** layers.\n",
    "\n",
    "** Hint: **\n",
    "\n",
    "When unpacking values as an argument in Python, look into the [unpacking](https://docs.python.org/3/tutorial/controlflow.html#unpacking-argument-lists) operator. "
   ]
  },
  {
   "cell_type": "code",
   "execution_count": 138,
   "metadata": {
    "collapsed": false
   },
   "outputs": [
    {
     "name": "stdout",
     "output_type": "stream",
     "text": [
      "Tests Passed\n"
     ]
    }
   ],
   "source": [
    "def conv2d_maxpool(x_tensor, conv_num_outputs, conv_ksize, conv_strides, pool_ksize, pool_strides):\n",
    "    \"\"\"\n",
    "    Apply convolution then max pooling to x_tensor\n",
    "    :param x_tensor: TensorFlow Tensor\n",
    "    :param conv_num_outputs: Number of outputs for the convolutional layer\n",
    "    :param conv_ksize: kernel size 2-D Tuple for the convolutional layer\n",
    "    :param conv_strides: Stride 2-D Tuple for convolution\n",
    "    :param pool_ksize: kernel size 2-D Tuple for pool\n",
    "    :param pool_strides: Stride 2-D Tuple for pool\n",
    "    : return: A tensor that represents convolution and max pooling of x_tensor\n",
    "    \"\"\"\n",
    "    input_depth = x_tensor.get_shape().as_list()[3]\n",
    "    \n",
    "    weight = tf.Variable(tf.random_normal([*conv_ksize, input_depth, conv_num_outputs], stddev=(1./np.sqrt(np.prod(x_tensor.get_shape().as_list()[1:])))))\n",
    "    \n",
    "    bias = tf.Variable(tf.zeros([conv_num_outputs]))\n",
    "    \n",
    "    conv = tf.nn.conv2d(x_tensor, weight, ([1, *conv_strides, 1]),\n",
    "                        padding ='SAME')\n",
    "    conv = tf.nn.bias_add(conv, bias)\n",
    "    conv = tf.nn.relu(conv)\n",
    "    \n",
    "    pool = tf.nn.pool(conv, pool_ksize, strides=pool_strides, pooling_type = 'MAX', padding = 'SAME')\n",
    "    \n",
    "    return pool\n",
    "\n",
    "\"\"\"\n",
    "DON'T MODIFY ANYTHING IN THIS CELL THAT IS BELOW THIS LINE\n",
    "\"\"\"\n",
    "tests.test_con_pool(conv2d_maxpool)"
   ]
  },
  {
   "cell_type": "markdown",
   "metadata": {},
   "source": [
    "### Flatten Layer\n",
    "Implement the `flatten` function to change the dimension of `x_tensor` from a 4-D tensor to a 2-D tensor.  The output should be the shape (*Batch Size*, *Flattened Image Size*). Shortcut option: you can use classes from the [TensorFlow Layers](https://www.tensorflow.org/api_docs/python/tf/layers) or [TensorFlow Layers (contrib)](https://www.tensorflow.org/api_guides/python/contrib.layers) packages for this layer. For more of a challenge, only use other TensorFlow packages."
   ]
  },
  {
   "cell_type": "code",
   "execution_count": 139,
   "metadata": {
    "collapsed": false
   },
   "outputs": [
    {
     "name": "stdout",
     "output_type": "stream",
     "text": [
      "Tests Passed\n"
     ]
    }
   ],
   "source": [
    "def flatten(x_tensor):\n",
    "    \"\"\"\n",
    "    Flatten x_tensor to (Batch Size, Flattened Image Size)\n",
    "    : x_tensor: A tensor of size (Batch Size, ...), where ... are the image dimensions.\n",
    "    : return: A tensor of size (Batch Size, Flattened Image Size).\n",
    "    \"\"\"\n",
    "    image_shape = x_tensor.get_shape().as_list()[1:]\n",
    "    flat_size = np.prod(image_shape) # can't use tf.reduce_prod here, which is a hassle\n",
    "    flat_t = tf.reshape(x_tensor, [-1, flat_size])\n",
    "    return flat_t\n",
    "\n",
    "\n",
    "\"\"\"\n",
    "DON'T MODIFY ANYTHING IN THIS CELL THAT IS BELOW THIS LINE\n",
    "\"\"\"\n",
    "tests.test_flatten(flatten)"
   ]
  },
  {
   "cell_type": "markdown",
   "metadata": {},
   "source": [
    "### Fully-Connected Layer\n",
    "Implement the `fully_conn` function to apply a fully connected layer to `x_tensor` with the shape (*Batch Size*, *num_outputs*). Shortcut option: you can use classes from the [TensorFlow Layers](https://www.tensorflow.org/api_docs/python/tf/layers) or [TensorFlow Layers (contrib)](https://www.tensorflow.org/api_guides/python/contrib.layers) packages for this layer. For more of a challenge, only use other TensorFlow packages."
   ]
  },
  {
   "cell_type": "code",
   "execution_count": 140,
   "metadata": {
    "collapsed": false
   },
   "outputs": [
    {
     "name": "stdout",
     "output_type": "stream",
     "text": [
      "Tests Passed\n"
     ]
    }
   ],
   "source": [
    "def fully_conn(x_tensor, num_outputs):\n",
    "    \"\"\"\n",
    "    Apply a fully connected layer to x_tensor using weight and bias\n",
    "    : x_tensor: A 2-D tensor where the first dimension is batch size.\n",
    "    : num_outputs: The number of output that the new tensor should be.\n",
    "    : return: A 2-D tensor where the second dimension is num_outputs.\n",
    "    \"\"\"\n",
    "    \n",
    "    weights = tf.Variable(tf.random_normal([x_tensor.get_shape().as_list()[1], num_outputs],\n",
    "                                           stddev=(1./np.sqrt(x_tensor.get_shape().as_list()[1])), mean = 0))\n",
    "    bias = tf.Variable(tf.zeros(num_outputs))\n",
    "    \n",
    "    full_con = tf.matmul(x_tensor, weights)\n",
    "    full_con = tf.nn.bias_add(full_con, bias)\n",
    "    full_con = tf.nn.relu(full_con)\n",
    "    \n",
    "    return full_con\n",
    "\"\"\"\n",
    "DON'T MODIFY ANYTHING IN THIS CELL THAT IS BELOW THIS LINE\n",
    "\"\"\"\n",
    "tests.test_fully_conn(fully_conn)"
   ]
  },
  {
   "cell_type": "markdown",
   "metadata": {},
   "source": [
    "### Output Layer\n",
    "Implement the `output` function to apply a fully connected layer to `x_tensor` with the shape (*Batch Size*, *num_outputs*). Shortcut option: you can use classes from the [TensorFlow Layers](https://www.tensorflow.org/api_docs/python/tf/layers) or [TensorFlow Layers (contrib)](https://www.tensorflow.org/api_guides/python/contrib.layers) packages for this layer. For more of a challenge, only use other TensorFlow packages.\n",
    "\n",
    "**Note:** Activation, softmax, or cross entropy should **not** be applied to this."
   ]
  },
  {
   "cell_type": "code",
   "execution_count": 141,
   "metadata": {
    "collapsed": false
   },
   "outputs": [
    {
     "name": "stdout",
     "output_type": "stream",
     "text": [
      "Tests Passed\n"
     ]
    }
   ],
   "source": [
    "def output(x_tensor, num_outputs):\n",
    "    \"\"\"\n",
    "    Apply a output layer to x_tensor using weight and bias\n",
    "    : x_tensor: A 2-D tensor where the first dimension is batch size.\n",
    "    : num_outputs: The number of output that the new tensor should be.\n",
    "    : return: A 2-D tensor where the second dimension is num_outputs.\n",
    "    \"\"\"\n",
    "    weights = tf.Variable(tf.random_normal([x_tensor.get_shape().as_list()[1], num_outputs],\n",
    "                                           stddev=(1./np.sqrt(x_tensor.get_shape().as_list()[1])), mean = 0))\n",
    "    bias = tf.Variable(tf.zeros([num_outputs]))\n",
    "    \n",
    "    return tf.nn.bias_add(tf.matmul(x_tensor, weights), bias)\n",
    "\n",
    "\n",
    "\"\"\"\n",
    "DON'T MODIFY ANYTHING IN THIS CELL THAT IS BELOW THIS LINE\n",
    "\"\"\"\n",
    "tests.test_output(output)"
   ]
  },
  {
   "cell_type": "markdown",
   "metadata": {},
   "source": [
    "### Create Convolutional Model\n",
    "Implement the function `conv_net` to create a convolutional neural network model. The function takes in a batch of images, `x`, and outputs logits.  Use the layers you created above to create this model:\n",
    "\n",
    "* Apply 1, 2, or 3 Convolution and Max Pool layers\n",
    "* Apply a Flatten Layer\n",
    "* Apply 1, 2, or 3 Fully Connected Layers\n",
    "* Apply an Output Layer\n",
    "* Return the output\n",
    "* Apply [TensorFlow's Dropout](https://www.tensorflow.org/api_docs/python/tf/nn/dropout) to one or more layers in the model using `keep_prob`. "
   ]
  },
  {
   "cell_type": "code",
   "execution_count": 179,
   "metadata": {
    "collapsed": false
   },
   "outputs": [
    {
     "name": "stdout",
     "output_type": "stream",
     "text": [
      "Neural Network Built!\n"
     ]
    }
   ],
   "source": [
    "def conv_net(x, keep_prob):\n",
    "    \"\"\"\n",
    "    Create a convolutional neural network model\n",
    "    : x: Placeholder tensor that holds image data.\n",
    "    : keep_prob: Placeholder tensor that hold dropout keep probability.\n",
    "    : return: Tensor that represents logits\n",
    "    \"\"\"\n",
    "    # Apply 1, 2, or 3 Convolution and Max Pool layers\n",
    "    #    Play around with different number of outputs, kernel size and stride\n",
    "    # Function Definition from Above:\n",
    "    #    conv2d_maxpool(x_tensor, conv_num_outputs, conv_ksize, conv_strides, pool_ksize, pool_strides)\n",
    "    conv1 = conv2d_maxpool(x, 10, (4,4), (1,1), (3,3), (3,3))\n",
    "    conv2 = conv2d_maxpool(conv1, 30, (3,3), (1,1), (3,3), (3,3))\n",
    "\n",
    "    # Apply a Flatten Layer\n",
    "    # Function Definition from Above:\n",
    "    #   flatten(x_tensor)\n",
    "    flattened = flatten(conv2)\n",
    "\n",
    "    # Apply 1, 2, or 3 Fully Connected Layers\n",
    "    # Function Definition from Above:\n",
    "    #   fully_conn(x_tensor, num_outputs)\n",
    "    deep1 = fully_conn(flattened, 50)\n",
    "    deep1 = tf.nn.dropout(deep1, keep_prob)\n",
    "    # Apply an Output Layer\n",
    "    #    Set this to the number of classes\n",
    "    # Function Definition from Above:\n",
    "    #   output(x_tensor, num_outputs)\n",
    "    out = output(deep1, 10)\n",
    "    \n",
    "    # return output\n",
    "    return out\n",
    "\n",
    "\n",
    "\"\"\"\n",
    "DON'T MODIFY ANYTHING IN THIS CELL THAT IS BELOW THIS LINE\n",
    "\"\"\"\n",
    "\n",
    "##############################\n",
    "## Build the Neural Network ##\n",
    "##############################\n",
    "\n",
    "# Remove previous weights, bias, inputs, etc..\n",
    "tf.reset_default_graph()\n",
    "\n",
    "# Inputs\n",
    "x = neural_net_image_input((32, 32, 3))\n",
    "y = neural_net_label_input(10)\n",
    "keep_prob = neural_net_keep_prob_input()\n",
    "\n",
    "# Model\n",
    "logits = conv_net(x, keep_prob)\n",
    "\n",
    "# Name logits Tensor, so that is can be loaded from disk after training\n",
    "logits = tf.identity(logits, name='logits')\n",
    "\n",
    "# Loss and Optimizer\n",
    "cost = tf.reduce_mean(tf.nn.softmax_cross_entropy_with_logits(logits=logits, labels=y))\n",
    "optimizer = tf.train.AdamOptimizer().minimize(cost)\n",
    "\n",
    "# Accuracy\n",
    "correct_pred = tf.equal(tf.argmax(logits, 1), tf.argmax(y, 1))\n",
    "accuracy = tf.reduce_mean(tf.cast(correct_pred, tf.float32), name='accuracy')\n",
    "\n",
    "tests.test_conv_net(conv_net)"
   ]
  },
  {
   "cell_type": "markdown",
   "metadata": {},
   "source": [
    "## Train the Neural Network\n",
    "### Single Optimization\n",
    "Implement the function `train_neural_network` to do a single optimization.  The optimization should use `optimizer` to optimize in `session` with a `feed_dict` of the following:\n",
    "* `x` for image input\n",
    "* `y` for labels\n",
    "* `keep_prob` for keep probability for dropout\n",
    "\n",
    "This function will be called for each batch, so `tf.global_variables_initializer()` has already been called.\n",
    "\n",
    "Note: Nothing needs to be returned. This function is only optimizing the neural network."
   ]
  },
  {
   "cell_type": "code",
   "execution_count": 180,
   "metadata": {
    "collapsed": false
   },
   "outputs": [
    {
     "name": "stdout",
     "output_type": "stream",
     "text": [
      "Tests Passed\n"
     ]
    }
   ],
   "source": [
    "def train_neural_network(session, optimizer, keep_probability, feature_batch, label_batch):\n",
    "    \"\"\"\n",
    "    Optimize the session on a batch of images and labels\n",
    "    : session: Current TensorFlow session\n",
    "    : optimizer: TensorFlow optimizer function\n",
    "    : keep_probability: keep probability\n",
    "    : feature_batch: Batch of Numpy image data\n",
    "    : label_batch: Batch of Numpy label data\n",
    "    \"\"\"\n",
    "    session.run(optimizer, feed_dict = {x: feature_batch, y: label_batch, keep_prob: keep_probability})\n",
    "\n",
    "\n",
    "\"\"\"\n",
    "DON'T MODIFY ANYTHING IN THIS CELL THAT IS BELOW THIS LINE\n",
    "\"\"\"\n",
    "tests.test_train_nn(train_neural_network)"
   ]
  },
  {
   "cell_type": "markdown",
   "metadata": {},
   "source": [
    "### Show Stats\n",
    "Implement the function `print_stats` to print loss and validation accuracy.  Use the global variables `valid_features` and `valid_labels` to calculate validation accuracy.  Use a keep probability of `1.0` to calculate the loss and validation accuracy."
   ]
  },
  {
   "cell_type": "code",
   "execution_count": 181,
   "metadata": {
    "collapsed": false
   },
   "outputs": [],
   "source": [
    "def print_stats(session, feature_batch, label_batch, cost, accuracy):\n",
    "    \"\"\"\n",
    "    Print information about loss and validation accuracy\n",
    "    : session: Current TensorFlow session\n",
    "    : feature_batch: Batch of Numpy image data\n",
    "    : label_batch: Batch of Numpy label data\n",
    "    : cost: TensorFlow cost function\n",
    "    : accuracy: TensorFlow accuracy function\n",
    "    \"\"\"\n",
    "    loss = session.run(cost, feed_dict = {x: feature_batch, y: label_batch, keep_prob: 1.})\n",
    "    acc = session.run(accuracy, feed_dict = {x: valid_features, y: valid_labels, keep_prob: 1.})\n",
    "    print('loss: %r, accuracy: %r'%(loss, acc))"
   ]
  },
  {
   "cell_type": "markdown",
   "metadata": {},
   "source": [
    "### Hyperparameters\n",
    "Tune the following parameters:\n",
    "* Set `epochs` to the number of iterations until the network stops learning or start overfitting\n",
    "* Set `batch_size` to the highest number that your machine has memory for.  Most people set them to common sizes of memory:\n",
    " * 64\n",
    " * 128\n",
    " * 256\n",
    " * ...\n",
    "* Set `keep_probability` to the probability of keeping a node using dropout"
   ]
  },
  {
   "cell_type": "code",
   "execution_count": 186,
   "metadata": {
    "collapsed": true
   },
   "outputs": [],
   "source": [
    "# Tune Parameters\n",
    "epochs = 30\n",
    "batch_size = 64\n",
    "keep_probability = .5"
   ]
  },
  {
   "cell_type": "markdown",
   "metadata": {},
   "source": [
    "### Train on a Single CIFAR-10 Batch\n",
    "Instead of training the neural network on all the CIFAR-10 batches of data, let's use a single batch. This should save time while you iterate on the model to get a better accuracy.  Once the final validation accuracy is 50% or greater, run the model on all the data in the next section."
   ]
  },
  {
   "cell_type": "code",
   "execution_count": 187,
   "metadata": {
    "collapsed": false
   },
   "outputs": [
    {
     "name": "stdout",
     "output_type": "stream",
     "text": [
      "Checking the Training on a Single Batch...\n",
      "Epoch  1, CIFAR-10 Batch 1:  loss: 2.163451, accuracy: 0.23800001\n",
      "Epoch  2, CIFAR-10 Batch 1:  loss: 2.1727045, accuracy: 0.26800001\n",
      "Epoch  3, CIFAR-10 Batch 1:  loss: 2.0771213, accuracy: 0.3258\n",
      "Epoch  4, CIFAR-10 Batch 1:  loss: 2.0516648, accuracy: 0.34639999\n",
      "Epoch  5, CIFAR-10 Batch 1:  loss: 2.0479455, accuracy: 0.37540001\n",
      "Epoch  6, CIFAR-10 Batch 1:  loss: 1.9981149, accuracy: 0.3998\n",
      "Epoch  7, CIFAR-10 Batch 1:  loss: 1.9790771, accuracy: 0.41260001\n",
      "Epoch  8, CIFAR-10 Batch 1:  loss: 1.9191414, accuracy: 0.426\n",
      "Epoch  9, CIFAR-10 Batch 1:  loss: 1.8654464, accuracy: 0.4508\n",
      "Epoch 10, CIFAR-10 Batch 1:  loss: 1.7984734, accuracy: 0.4418\n",
      "Epoch 11, CIFAR-10 Batch 1:  loss: 1.7499409, accuracy: 0.4614\n",
      "Epoch 12, CIFAR-10 Batch 1:  loss: 1.6609453, accuracy: 0.46560001\n",
      "Epoch 13, CIFAR-10 Batch 1:  loss: 1.7197475, accuracy: 0.46959999\n",
      "Epoch 14, CIFAR-10 Batch 1:  loss: 1.5792854, accuracy: 0.48159999\n",
      "Epoch 15, CIFAR-10 Batch 1:  loss: 1.5606925, accuracy: 0.48879999\n",
      "Epoch 16, CIFAR-10 Batch 1:  loss: 1.5220561, accuracy: 0.49399999\n",
      "Epoch 17, CIFAR-10 Batch 1:  loss: 1.5060797, accuracy: 0.47299999\n",
      "Epoch 18, CIFAR-10 Batch 1:  loss: 1.505388, accuracy: 0.47839999\n",
      "Epoch 19, CIFAR-10 Batch 1:  loss: 1.4523302, accuracy: 0.4874\n",
      "Epoch 20, CIFAR-10 Batch 1:  loss: 1.4045537, accuracy: 0.498\n",
      "Epoch 21, CIFAR-10 Batch 1:  loss: 1.3695328, accuracy: 0.50800002\n",
      "Epoch 22, CIFAR-10 Batch 1:  loss: 1.3670948, accuracy: 0.5122\n",
      "Epoch 23, CIFAR-10 Batch 1:  loss: 1.2771704, accuracy: 0.51719999\n",
      "Epoch 24, CIFAR-10 Batch 1:  loss: 1.3350705, accuracy: 0.51620001\n",
      "Epoch 25, CIFAR-10 Batch 1:  loss: 1.2898874, accuracy: 0.51419997\n",
      "Epoch 26, CIFAR-10 Batch 1:  loss: 1.2364168, accuracy: 0.5194\n",
      "Epoch 27, CIFAR-10 Batch 1:  loss: 1.2303362, accuracy: 0.52999997\n",
      "Epoch 28, CIFAR-10 Batch 1:  loss: 1.1615188, accuracy: 0.53100002\n",
      "Epoch 29, CIFAR-10 Batch 1:  loss: 1.1804383, accuracy: 0.52939999\n",
      "Epoch 30, CIFAR-10 Batch 1:  loss: 1.1880513, accuracy: 0.53039998\n"
     ]
    }
   ],
   "source": [
    "\"\"\"\n",
    "DON'T MODIFY ANYTHING IN THIS CELL\n",
    "\"\"\"\n",
    "print('Checking the Training on a Single Batch...')\n",
    "with tf.Session() as sess:\n",
    "    # Initializing the variables\n",
    "    sess.run(tf.global_variables_initializer())\n",
    "    \n",
    "    # Training cycle\n",
    "    for epoch in range(epochs):\n",
    "        batch_i = 1\n",
    "        for batch_features, batch_labels in helper.load_preprocess_training_batch(batch_i, batch_size):\n",
    "            train_neural_network(sess, optimizer, keep_probability, batch_features, batch_labels)\n",
    "        print('Epoch {:>2}, CIFAR-10 Batch {}:  '.format(epoch + 1, batch_i), end='')\n",
    "        print_stats(sess, batch_features, batch_labels, cost, accuracy)"
   ]
  },
  {
   "cell_type": "markdown",
   "metadata": {},
   "source": [
    "### Fully Train the Model\n",
    "Now that you got a good accuracy with a single CIFAR-10 batch, try it with all five batches."
   ]
  },
  {
   "cell_type": "code",
   "execution_count": 188,
   "metadata": {
    "collapsed": false
   },
   "outputs": [
    {
     "name": "stdout",
     "output_type": "stream",
     "text": [
      "Training...\n",
      "Epoch  1, CIFAR-10 Batch 1:  loss: 2.1856644, accuracy: 0.23019999\n",
      "Epoch  1, CIFAR-10 Batch 2:  loss: 2.0809753, accuracy: 0.2748\n",
      "Epoch  1, CIFAR-10 Batch 3:  loss: 1.794471, accuracy: 0.3012\n",
      "Epoch  1, CIFAR-10 Batch 4:  loss: 1.7459519, accuracy: 0.35299999\n",
      "Epoch  1, CIFAR-10 Batch 5:  loss: 1.8955666, accuracy: 0.3448\n",
      "Epoch  2, CIFAR-10 Batch 1:  loss: 2.0092704, accuracy: 0.39820001\n",
      "Epoch  2, CIFAR-10 Batch 2:  loss: 1.8224494, accuracy: 0.39680001\n",
      "Epoch  2, CIFAR-10 Batch 3:  loss: 1.5353633, accuracy: 0.40779999\n",
      "Epoch  2, CIFAR-10 Batch 4:  loss: 1.6530517, accuracy: 0.41580001\n",
      "Epoch  2, CIFAR-10 Batch 5:  loss: 1.6904125, accuracy: 0.4296\n",
      "Epoch  3, CIFAR-10 Batch 1:  loss: 1.947834, accuracy: 0.42199999\n",
      "Epoch  3, CIFAR-10 Batch 2:  loss: 1.6275406, accuracy: 0.4332\n",
      "Epoch  3, CIFAR-10 Batch 3:  loss: 1.4169258, accuracy: 0.43360001\n",
      "Epoch  3, CIFAR-10 Batch 4:  loss: 1.6299469, accuracy: 0.44980001\n",
      "Epoch  3, CIFAR-10 Batch 5:  loss: 1.6279564, accuracy: 0.45820001\n",
      "Epoch  4, CIFAR-10 Batch 1:  loss: 1.7702423, accuracy: 0.46700001\n",
      "Epoch  4, CIFAR-10 Batch 2:  loss: 1.5987948, accuracy: 0.45820001\n",
      "Epoch  4, CIFAR-10 Batch 3:  loss: 1.2605189, accuracy: 0.46599999\n",
      "Epoch  4, CIFAR-10 Batch 4:  loss: 1.5613397, accuracy: 0.472\n",
      "Epoch  4, CIFAR-10 Batch 5:  loss: 1.6134751, accuracy: 0.46599999\n",
      "Epoch  5, CIFAR-10 Batch 1:  loss: 1.7013893, accuracy: 0.484\n",
      "Epoch  5, CIFAR-10 Batch 2:  loss: 1.4896202, accuracy: 0.4808\n",
      "Epoch  5, CIFAR-10 Batch 3:  loss: 1.2164896, accuracy: 0.48159999\n",
      "Epoch  5, CIFAR-10 Batch 4:  loss: 1.5021799, accuracy: 0.48559999\n",
      "Epoch  5, CIFAR-10 Batch 5:  loss: 1.561088, accuracy: 0.48679999\n",
      "Epoch  6, CIFAR-10 Batch 1:  loss: 1.6908134, accuracy: 0.49939999\n",
      "Epoch  6, CIFAR-10 Batch 2:  loss: 1.5059969, accuracy: 0.4844\n",
      "Epoch  6, CIFAR-10 Batch 3:  loss: 1.2174501, accuracy: 0.49720001\n",
      "Epoch  6, CIFAR-10 Batch 4:  loss: 1.4654357, accuracy: 0.50059998\n",
      "Epoch  6, CIFAR-10 Batch 5:  loss: 1.4988127, accuracy: 0.5\n",
      "Epoch  7, CIFAR-10 Batch 1:  loss: 1.5449817, accuracy: 0.52039999\n",
      "Epoch  7, CIFAR-10 Batch 2:  loss: 1.4071823, accuracy: 0.5194\n",
      "Epoch  7, CIFAR-10 Batch 3:  loss: 1.184016, accuracy: 0.51779997\n",
      "Epoch  7, CIFAR-10 Batch 4:  loss: 1.434914, accuracy: 0.51319999\n",
      "Epoch  7, CIFAR-10 Batch 5:  loss: 1.4070171, accuracy: 0.50739998\n",
      "Epoch  8, CIFAR-10 Batch 1:  loss: 1.526588, accuracy: 0.52399999\n",
      "Epoch  8, CIFAR-10 Batch 2:  loss: 1.3136339, accuracy: 0.53060001\n",
      "Epoch  8, CIFAR-10 Batch 3:  loss: 1.1024425, accuracy: 0.53399998\n",
      "Epoch  8, CIFAR-10 Batch 4:  loss: 1.3934554, accuracy: 0.5316\n",
      "Epoch  8, CIFAR-10 Batch 5:  loss: 1.4023669, accuracy: 0.5226\n",
      "Epoch  9, CIFAR-10 Batch 1:  loss: 1.4982474, accuracy: 0.53780001\n",
      "Epoch  9, CIFAR-10 Batch 2:  loss: 1.2850014, accuracy: 0.53600001\n",
      "Epoch  9, CIFAR-10 Batch 3:  loss: 1.1233851, accuracy: 0.54180002\n",
      "Epoch  9, CIFAR-10 Batch 4:  loss: 1.3648487, accuracy: 0.53039998\n",
      "Epoch  9, CIFAR-10 Batch 5:  loss: 1.305946, accuracy: 0.53899997\n",
      "Epoch 10, CIFAR-10 Batch 1:  loss: 1.4902411, accuracy: 0.5528\n",
      "Epoch 10, CIFAR-10 Batch 2:  loss: 1.2443919, accuracy: 0.5474\n",
      "Epoch 10, CIFAR-10 Batch 3:  loss: 1.1040853, accuracy: 0.55159998\n",
      "Epoch 10, CIFAR-10 Batch 4:  loss: 1.3246108, accuracy: 0.52819997\n",
      "Epoch 10, CIFAR-10 Batch 5:  loss: 1.2802044, accuracy: 0.53839999\n",
      "Epoch 11, CIFAR-10 Batch 1:  loss: 1.4661129, accuracy: 0.55239999\n",
      "Epoch 11, CIFAR-10 Batch 2:  loss: 1.2286558, accuracy: 0.55739999\n",
      "Epoch 11, CIFAR-10 Batch 3:  loss: 1.0455389, accuracy: 0.55379999\n",
      "Epoch 11, CIFAR-10 Batch 4:  loss: 1.2406141, accuracy: 0.56040001\n",
      "Epoch 11, CIFAR-10 Batch 5:  loss: 1.2798865, accuracy: 0.55360001\n",
      "Epoch 12, CIFAR-10 Batch 1:  loss: 1.402941, accuracy: 0.56480002\n",
      "Epoch 12, CIFAR-10 Batch 2:  loss: 1.1814848, accuracy: 0.56559998\n",
      "Epoch 12, CIFAR-10 Batch 3:  loss: 1.0009649, accuracy: 0.56040001\n",
      "Epoch 12, CIFAR-10 Batch 4:  loss: 1.2262679, accuracy: 0.55839998\n",
      "Epoch 12, CIFAR-10 Batch 5:  loss: 1.2234437, accuracy: 0.56059998\n",
      "Epoch 13, CIFAR-10 Batch 1:  loss: 1.3803751, accuracy: 0.57160002\n",
      "Epoch 13, CIFAR-10 Batch 2:  loss: 1.161556, accuracy: 0.57099998\n",
      "Epoch 13, CIFAR-10 Batch 3:  loss: 0.94835109, accuracy: 0.565\n",
      "Epoch 13, CIFAR-10 Batch 4:  loss: 1.1842412, accuracy: 0.5636\n",
      "Epoch 13, CIFAR-10 Batch 5:  loss: 1.1898838, accuracy: 0.56220001\n",
      "Epoch 14, CIFAR-10 Batch 1:  loss: 1.3401023, accuracy: 0.5844\n",
      "Epoch 14, CIFAR-10 Batch 2:  loss: 1.1924856, accuracy: 0.57740003\n",
      "Epoch 14, CIFAR-10 Batch 3:  loss: 0.97455233, accuracy: 0.56999999\n",
      "Epoch 14, CIFAR-10 Batch 4:  loss: 1.1764286, accuracy: 0.58020002\n",
      "Epoch 14, CIFAR-10 Batch 5:  loss: 1.1424991, accuracy: 0.56440002\n",
      "Epoch 15, CIFAR-10 Batch 1:  loss: 1.2864603, accuracy: 0.56900001\n",
      "Epoch 15, CIFAR-10 Batch 2:  loss: 1.1478992, accuracy: 0.5772\n",
      "Epoch 15, CIFAR-10 Batch 3:  loss: 0.9574374, accuracy: 0.57700002\n",
      "Epoch 15, CIFAR-10 Batch 4:  loss: 1.1026582, accuracy: 0.57980001\n",
      "Epoch 15, CIFAR-10 Batch 5:  loss: 1.1630663, accuracy: 0.56260002\n",
      "Epoch 16, CIFAR-10 Batch 1:  loss: 1.2800522, accuracy: 0.58139998\n",
      "Epoch 16, CIFAR-10 Batch 2:  loss: 1.1316464, accuracy: 0.58240002\n",
      "Epoch 16, CIFAR-10 Batch 3:  loss: 0.94068623, accuracy: 0.58099997\n",
      "Epoch 16, CIFAR-10 Batch 4:  loss: 1.0833685, accuracy: 0.57239997\n",
      "Epoch 16, CIFAR-10 Batch 5:  loss: 1.1332045, accuracy: 0.57560003\n",
      "Epoch 17, CIFAR-10 Batch 1:  loss: 1.2213786, accuracy: 0.58539999\n",
      "Epoch 17, CIFAR-10 Batch 2:  loss: 1.1033955, accuracy: 0.58780003\n",
      "Epoch 17, CIFAR-10 Batch 3:  loss: 0.87992764, accuracy: 0.58099997\n",
      "Epoch 17, CIFAR-10 Batch 4:  loss: 1.057712, accuracy: 0.5596\n",
      "Epoch 17, CIFAR-10 Batch 5:  loss: 1.1145923, accuracy: 0.58679998\n",
      "Epoch 18, CIFAR-10 Batch 1:  loss: 1.1458342, accuracy: 0.5812\n",
      "Epoch 18, CIFAR-10 Batch 2:  loss: 1.1148328, accuracy: 0.58179998\n",
      "Epoch 18, CIFAR-10 Batch 3:  loss: 0.93791735, accuracy: 0.5862\n",
      "Epoch 18, CIFAR-10 Batch 4:  loss: 1.0811883, accuracy: 0.58359998\n",
      "Epoch 18, CIFAR-10 Batch 5:  loss: 1.0662439, accuracy: 0.5808\n",
      "Epoch 19, CIFAR-10 Batch 1:  loss: 1.2086689, accuracy: 0.59020001\n",
      "Epoch 19, CIFAR-10 Batch 2:  loss: 1.140106, accuracy: 0.59060001\n",
      "Epoch 19, CIFAR-10 Batch 3:  loss: 0.95983732, accuracy: 0.58319998\n",
      "Epoch 19, CIFAR-10 Batch 4:  loss: 1.0807006, accuracy: 0.58020002\n",
      "Epoch 19, CIFAR-10 Batch 5:  loss: 1.0122869, accuracy: 0.583\n",
      "Epoch 20, CIFAR-10 Batch 1:  loss: 1.1505427, accuracy: 0.58999997\n",
      "Epoch 20, CIFAR-10 Batch 2:  loss: 1.1388788, accuracy: 0.583\n",
      "Epoch 20, CIFAR-10 Batch 3:  loss: 0.93178195, accuracy: 0.59560001\n",
      "Epoch 20, CIFAR-10 Batch 4:  loss: 1.0597831, accuracy: 0.59219998\n",
      "Epoch 20, CIFAR-10 Batch 5:  loss: 1.0910584, accuracy: 0.58020002\n",
      "Epoch 21, CIFAR-10 Batch 1:  loss: 1.169153, accuracy: 0.59539998\n",
      "Epoch 21, CIFAR-10 Batch 2:  loss: 1.0576575, accuracy: 0.58960003\n",
      "Epoch 21, CIFAR-10 Batch 3:  loss: 0.86129731, accuracy: 0.5934\n",
      "Epoch 21, CIFAR-10 Batch 4:  loss: 1.0228175, accuracy: 0.58920002\n",
      "Epoch 21, CIFAR-10 Batch 5:  loss: 0.99395573, accuracy: 0.60000002\n",
      "Epoch 22, CIFAR-10 Batch 1:  loss: 1.0705847, accuracy: 0.597\n",
      "Epoch 22, CIFAR-10 Batch 2:  loss: 1.0478574, accuracy: 0.59179997\n",
      "Epoch 22, CIFAR-10 Batch 3:  loss: 0.90338534, accuracy: 0.59740001\n",
      "Epoch 22, CIFAR-10 Batch 4:  loss: 1.0415676, accuracy: 0.59640002\n",
      "Epoch 22, CIFAR-10 Batch 5:  loss: 0.98757011, accuracy: 0.602\n",
      "Epoch 23, CIFAR-10 Batch 1:  loss: 1.0971274, accuracy: 0.59359998\n",
      "Epoch 23, CIFAR-10 Batch 2:  loss: 1.0337127, accuracy: 0.59820002\n",
      "Epoch 23, CIFAR-10 Batch 3:  loss: 0.87953269, accuracy: 0.59799999\n",
      "Epoch 23, CIFAR-10 Batch 4:  loss: 1.0350167, accuracy: 0.597\n",
      "Epoch 23, CIFAR-10 Batch 5:  loss: 0.98572713, accuracy: 0.6006\n",
      "Epoch 24, CIFAR-10 Batch 1:  loss: 1.1042542, accuracy: 0.60159999\n",
      "Epoch 24, CIFAR-10 Batch 2:  loss: 1.0061328, accuracy: 0.60140002\n",
      "Epoch 24, CIFAR-10 Batch 3:  loss: 0.85880089, accuracy: 0.59560001\n",
      "Epoch 24, CIFAR-10 Batch 4:  loss: 1.0102961, accuracy: 0.60119998\n",
      "Epoch 24, CIFAR-10 Batch 5:  loss: 0.95210779, accuracy: 0.59799999\n",
      "Epoch 25, CIFAR-10 Batch 1:  loss: 1.1017053, accuracy: 0.60720003\n",
      "Epoch 25, CIFAR-10 Batch 2:  loss: 0.9938547, accuracy: 0.5916\n",
      "Epoch 25, CIFAR-10 Batch 3:  loss: 0.87913924, accuracy: 0.59219998\n",
      "Epoch 25, CIFAR-10 Batch 4:  loss: 0.99766701, accuracy: 0.6038\n",
      "Epoch 25, CIFAR-10 Batch 5:  loss: 0.94928074, accuracy: 0.60259998\n",
      "Epoch 26, CIFAR-10 Batch 1:  loss: 1.1165297, accuracy: 0.58999997\n",
      "Epoch 26, CIFAR-10 Batch 2:  loss: 0.99470681, accuracy: 0.59539998\n",
      "Epoch 26, CIFAR-10 Batch 3:  loss: 0.8277216, accuracy: 0.59680003\n",
      "Epoch 26, CIFAR-10 Batch 4:  loss: 1.0226251, accuracy: 0.60540003\n",
      "Epoch 26, CIFAR-10 Batch 5:  loss: 0.92325163, accuracy: 0.6056\n",
      "Epoch 27, CIFAR-10 Batch 1:  loss: 1.0097625, accuracy: 0.60600001\n",
      "Epoch 27, CIFAR-10 Batch 2:  loss: 1.0037446, accuracy: 0.60259998\n",
      "Epoch 27, CIFAR-10 Batch 3:  loss: 0.81305295, accuracy: 0.60640001\n",
      "Epoch 27, CIFAR-10 Batch 4:  loss: 0.96656102, accuracy: 0.61360002\n",
      "Epoch 27, CIFAR-10 Batch 5:  loss: 0.8782171, accuracy: 0.59820002\n",
      "Epoch 28, CIFAR-10 Batch 1:  loss: 1.0892727, accuracy: 0.60619998\n",
      "Epoch 28, CIFAR-10 Batch 2:  loss: 1.0298733, accuracy: 0.60600001\n",
      "Epoch 28, CIFAR-10 Batch 3:  loss: 0.81579715, accuracy: 0.6002\n",
      "Epoch 28, CIFAR-10 Batch 4:  loss: 0.99390328, accuracy: 0.60759997\n",
      "Epoch 28, CIFAR-10 Batch 5:  loss: 0.90537721, accuracy: 0.60339999\n",
      "Epoch 29, CIFAR-10 Batch 1:  loss: 1.0669578, accuracy: 0.60100001\n",
      "Epoch 29, CIFAR-10 Batch 2:  loss: 1.0210143, accuracy: 0.59740001\n",
      "Epoch 29, CIFAR-10 Batch 3:  loss: 0.8106963, accuracy: 0.60600001\n",
      "Epoch 29, CIFAR-10 Batch 4:  loss: 0.99344003, accuracy: 0.61059999\n",
      "Epoch 29, CIFAR-10 Batch 5:  loss: 0.87628877, accuracy: 0.60280001\n",
      "Epoch 30, CIFAR-10 Batch 1:  loss: 0.98195618, accuracy: 0.60960001\n",
      "Epoch 30, CIFAR-10 Batch 2:  loss: 1.0602014, accuracy: 0.60140002\n",
      "Epoch 30, CIFAR-10 Batch 3:  loss: 0.79272974, accuracy: 0.59960002\n",
      "Epoch 30, CIFAR-10 Batch 4:  loss: 0.97168458, accuracy: 0.59640002\n",
      "Epoch 30, CIFAR-10 Batch 5:  loss: 0.90964496, accuracy: 0.59960002\n"
     ]
    }
   ],
   "source": [
    "\"\"\"\n",
    "DON'T MODIFY ANYTHING IN THIS CELL\n",
    "\"\"\"\n",
    "save_model_path = './image_classification'\n",
    "\n",
    "print('Training...')\n",
    "with tf.Session() as sess:\n",
    "    # Initializing the variables\n",
    "    sess.run(tf.global_variables_initializer())\n",
    "    \n",
    "    # Training cycle\n",
    "    for epoch in range(epochs):\n",
    "        # Loop over all batches\n",
    "        n_batches = 5\n",
    "        for batch_i in range(1, n_batches + 1):\n",
    "            for batch_features, batch_labels in helper.load_preprocess_training_batch(batch_i, batch_size):\n",
    "                train_neural_network(sess, optimizer, keep_probability, batch_features, batch_labels)\n",
    "            print('Epoch {:>2}, CIFAR-10 Batch {}:  '.format(epoch + 1, batch_i), end='')\n",
    "            print_stats(sess, batch_features, batch_labels, cost, accuracy)\n",
    "            \n",
    "    # Save Model\n",
    "    saver = tf.train.Saver()\n",
    "    save_path = saver.save(sess, save_model_path)"
   ]
  },
  {
   "cell_type": "markdown",
   "metadata": {},
   "source": [
    "# Checkpoint\n",
    "The model has been saved to disk.\n",
    "## Test Model\n",
    "Test your model against the test dataset.  This will be your final accuracy. You should have an accuracy greater than 50%. If you don't, keep tweaking the model architecture and parameters."
   ]
  },
  {
   "cell_type": "code",
   "execution_count": 189,
   "metadata": {
    "collapsed": false
   },
   "outputs": [
    {
     "name": "stdout",
     "output_type": "stream",
     "text": [
      "Testing Accuracy: 0.602109872611465\n",
      "\n"
     ]
    },
    {
     "data": {
      "image/png": "[encoded data removed]",
      "text/plain": [
       "<matplotlib.figure.Figure at 0x45b29e8>"
      ]
     },
     "metadata": {
      "image/png": {
       "height": 319,
       "width": 355
      }
     },
     "output_type": "display_data"
    }
   ],
   "source": [
    "\"\"\"\n",
    "DON'T MODIFY ANYTHING IN THIS CELL\n",
    "\"\"\"\n",
    "%matplotlib inline\n",
    "%config InlineBackend.figure_format = 'retina'\n",
    "\n",
    "import tensorflow as tf\n",
    "import pickle\n",
    "import helper\n",
    "import random\n",
    "\n",
    "# Set batch size if not already set\n",
    "try:\n",
    "    if batch_size:\n",
    "        pass\n",
    "except NameError:\n",
    "    batch_size = 64\n",
    "\n",
    "save_model_path = './image_classification'\n",
    "n_samples = 4\n",
    "top_n_predictions = 3\n",
    "\n",
    "def test_model():\n",
    "    \"\"\"\n",
    "    Test the saved model against the test dataset\n",
    "    \"\"\"\n",
    "\n",
    "    test_features, test_labels = pickle.load(open('preprocess_training.p', mode='rb'))\n",
    "    loaded_graph = tf.Graph()\n",
    "\n",
    "    with tf.Session(graph=loaded_graph) as sess:\n",
    "        # Load model\n",
    "        loader = tf.train.import_meta_graph(save_model_path + '.meta')\n",
    "        loader.restore(sess, save_model_path)\n",
    "\n",
    "        # Get Tensors from loaded model\n",
    "        loaded_x = loaded_graph.get_tensor_by_name('x:0')\n",
    "        loaded_y = loaded_graph.get_tensor_by_name('y:0')\n",
    "        loaded_keep_prob = loaded_graph.get_tensor_by_name('keep_prob:0')\n",
    "        loaded_logits = loaded_graph.get_tensor_by_name('logits:0')\n",
    "        loaded_acc = loaded_graph.get_tensor_by_name('accuracy:0')\n",
    "        \n",
    "        # Get accuracy in batches for memory limitations\n",
    "        test_batch_acc_total = 0\n",
    "        test_batch_count = 0\n",
    "        \n",
    "        for train_feature_batch, train_label_batch in helper.batch_features_labels(test_features, test_labels, batch_size):\n",
    "            test_batch_acc_total += sess.run(\n",
    "                loaded_acc,\n",
    "                feed_dict={loaded_x: train_feature_batch, loaded_y: train_label_batch, loaded_keep_prob: 1.0})\n",
    "            test_batch_count += 1\n",
    "\n",
    "        print('Testing Accuracy: {}\\n'.format(test_batch_acc_total/test_batch_count))\n",
    "\n",
    "        # Print Random Samples\n",
    "        random_test_features, random_test_labels = tuple(zip(*random.sample(list(zip(test_features, test_labels)), n_samples)))\n",
    "        random_test_predictions = sess.run(\n",
    "            tf.nn.top_k(tf.nn.softmax(loaded_logits), top_n_predictions),\n",
    "            feed_dict={loaded_x: random_test_features, loaded_y: random_test_labels, loaded_keep_prob: 1.0})\n",
    "        helper.display_image_predictions(random_test_features, random_test_labels, random_test_predictions)\n",
    "\n",
    "\n",
    "test_model()"
   ]
  },
  {
   "cell_type": "markdown",
   "metadata": {},
   "source": [
    "## Why 50-80% Accuracy?\n",
    "You might be wondering why you can't get an accuracy any higher. First things first, 50% isn't bad for a simple CNN.  Pure guessing would get you 10% accuracy. That's because there are many more techniques that can be applied to your model and we recemmond that once you are done with this project, you explore!\n",
    "\n",
    "## Submitting This Project\n",
    "When submitting this project, make sure to run all the cells before saving the notebook.  Save the notebook file as \"image_classification.ipynb\" and save it as a HTML file under \"File\" -> \"Download as\".  Include the \"helper.py\" and \"problem_unittests.py\" files in your submission."
   ]
  }
 ],
 "metadata": {
  "anaconda-cloud": {},
  "kernelspec": {
   "display_name": "Python [conda env:tensorflow]",
   "language": "python",
   "name": "conda-env-tensorflow-py"
  },
  "language_info": {
   "codemirror_mode": {
    "name": "ipython",
    "version": 3
   },
   "file_extension": ".py",
   "mimetype": "text/x-python",
   "name": "python",
   "nbconvert_exporter": "python",
   "pygments_lexer": "ipython3",
   "version": "3.5.3"
  }
 },
 "nbformat": 4,
 "nbformat_minor": 0
}
